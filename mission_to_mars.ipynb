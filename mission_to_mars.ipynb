{
 "cells": [
  {
   "cell_type": "code",
   "execution_count": 42,
   "metadata": {},
   "outputs": [],
   "source": [
    "from splinter import Browser\n",
    "from splinter.exceptions import ElementDoesNotExist\n",
    "from bs4 import BeautifulSoup as bs\n",
    "import time \n",
    "import pandas as pd"
   ]
  },
  {
   "cell_type": "code",
   "execution_count": 43,
   "metadata": {},
   "outputs": [
    {
     "name": "stdout",
     "output_type": "stream",
     "text": [
      "/usr/local/bin/chromedriver\r\n"
     ]
    }
   ],
   "source": [
    "!which chromedriver"
   ]
  },
  {
   "cell_type": "code",
   "execution_count": 44,
   "metadata": {},
   "outputs": [],
   "source": [
    "executable_path = {'executable_path': '/usr/local/bin/chromedriver'}\n",
    "browser = Browser('chrome', **executable_path, headless=False)"
   ]
  },
  {
   "cell_type": "code",
   "execution_count": 45,
   "metadata": {},
   "outputs": [],
   "source": [
    "         # NASA Mars News"
   ]
  },
  {
   "cell_type": "code",
   "execution_count": 46,
   "metadata": {},
   "outputs": [],
   "source": [
    "url = 'https://mars.nasa.gov/news'\n",
    "browser.visit(url)"
   ]
  },
  {
   "cell_type": "code",
   "execution_count": 47,
   "metadata": {},
   "outputs": [],
   "source": [
    "html = browser.html\n",
    "soup = bs(html, 'html.parser')"
   ]
  },
  {
   "cell_type": "code",
   "execution_count": 48,
   "metadata": {},
   "outputs": [
    {
     "name": "stdout",
     "output_type": "stream",
     "text": [
      "news_title = InSight Lands Praise and a Proclamation from LA County\n",
      "news_p = Several members of the Mars InSight team accepted a proclamation on behalf of the mission from L.A. County Board of Supervisors on Tuesday, Feb. 19.\n"
     ]
    }
   ],
   "source": [
    "article = soup.find('div',class_='list_text')\n",
    "news_title = article.find('div',class_='content_title').text\n",
    "news_p = article.find('div',class_='article_teaser_body').text\n",
    "print(\"news_title = \"+ news_title)\n",
    "print(\"news_p = \" + news_p)"
   ]
  },
  {
   "cell_type": "code",
   "execution_count": 49,
   "metadata": {},
   "outputs": [],
   "source": [
    "        # JPL Mars Space Images - Featured Image :..."
   ]
  },
  {
   "cell_type": "code",
   "execution_count": 50,
   "metadata": {},
   "outputs": [],
   "source": [
    "image_url = 'https://www.jpl.nasa.gov/spaceimages/?search=&category=Mars'\n",
    "browser.visit(image_url)   "
   ]
  },
  {
   "cell_type": "code",
   "execution_count": 51,
   "metadata": {},
   "outputs": [],
   "source": [
    "html = browser.html\n",
    "soup = bs(html, 'html.parser')"
   ]
  },
  {
   "cell_type": "code",
   "execution_count": 52,
   "metadata": {},
   "outputs": [
    {
     "name": "stdout",
     "output_type": "stream",
     "text": [
      "featured_image_url = https://www.jpl.nasa.gov/spaceimages/images/mediumsize/PIA19141_ip.jpg\n",
      "featured_image_url = https://www.jpl.nasa.gov/spaceimages/images/largesize/PIA23047_hires.jpg\n",
      "featured_image_url = https://www.jpl.nasa.gov/spaceimages/images/largesize/PIA23051_hires.jpg\n",
      "featured_image_url = https://www.jpl.nasa.gov/spaceimages/images/largesize/PIA23040_hires.jpg\n",
      "featured_image_url = https://www.jpl.nasa.gov/spaceimages/images/largesize/PIA23064_hires.jpg\n",
      "featured_image_url = https://www.jpl.nasa.gov/spaceimages/images/largesize/PIA23063_hires.jpg\n",
      "featured_image_url = https://www.jpl.nasa.gov/spaceimages/images/largesize/PIA23062_hires.jpg\n",
      "featured_image_url = https://www.jpl.nasa.gov/spaceimages/images/largesize/PIA23061_hires.jpg\n",
      "featured_image_url = https://www.jpl.nasa.gov/spaceimages/images/largesize/PIA23039_hires.jpg\n",
      "featured_image_url = https://www.jpl.nasa.gov/spaceimages/images/largesize/PIA23038_hires.jpg\n",
      "featured_image_url = https://www.jpl.nasa.gov/spaceimages/images/largesize/PIA23037_hires.jpg\n",
      "featured_image_url = https://www.jpl.nasa.gov/spaceimages/images/largesize/PIA23036_hires.jpg\n",
      "featured_image_url = https://www.jpl.nasa.gov/spaceimages/images/largesize/PIA23035_hires.jpg\n",
      "featured_image_url = https://www.jpl.nasa.gov/spaceimages/images/largesize/PIA22928_hires.jpg\n",
      "featured_image_url = https://www.jpl.nasa.gov/spaceimages/images/largesize/PIA23034_hires.jpg\n",
      "featured_image_url = https://www.jpl.nasa.gov/spaceimages/images/largesize/PIA23046_hires.jpg\n",
      "featured_image_url = https://www.jpl.nasa.gov/spaceimages/images/largesize/PIA23033_hires.jpg\n",
      "featured_image_url = https://www.jpl.nasa.gov/spaceimages/images/largesize/PIA23043_hires.jpg\n",
      "featured_image_url = https://www.jpl.nasa.gov/spaceimages/images/largesize/PIA23032_hires.jpg\n",
      "featured_image_url = https://www.jpl.nasa.gov/spaceimages/images/largesize/PIA23031_hires.jpg\n",
      "featured_image_url = https://www.jpl.nasa.gov/spaceimages/images/largesize/PIA23030_hires.jpg\n",
      "featured_image_url = https://www.jpl.nasa.gov/spaceimages/images/largesize/PIA23029_hires.jpg\n",
      "featured_image_url = https://www.jpl.nasa.gov/spaceimages/images/largesize/PIA23059_hires.jpg\n",
      "featured_image_url = https://www.jpl.nasa.gov/spaceimages/images/largesize/PIA23058_hires.jpg\n",
      "featured_image_url = https://www.jpl.nasa.gov/spaceimages/images/largesize/PIA23057_hires.jpg\n",
      "featured_image_url = https://www.jpl.nasa.gov/spaceimages/images/largesize/PIA23056_hires.jpg\n",
      "featured_image_url = https://www.jpl.nasa.gov/spaceimages/images/largesize/PIA23028_hires.jpg\n",
      "featured_image_url = https://www.jpl.nasa.gov/spaceimages/images/largesize/PIA22959_hires.jpg\n",
      "featured_image_url = https://www.jpl.nasa.gov/spaceimages/images/largesize/PIA23026_hires.jpg\n",
      "featured_image_url = https://www.jpl.nasa.gov/spaceimages/images/largesize/PIA22960_hires.jpg\n",
      "featured_image_url = https://www.jpl.nasa.gov/spaceimages/images/largesize/PIA23016_hires.jpg\n",
      "featured_image_url = https://www.jpl.nasa.gov/spaceimages/images/largesize/PIA23015_hires.jpg\n",
      "featured_image_url = https://www.jpl.nasa.gov/spaceimages/images/largesize/PIA23014_hires.jpg\n"
     ]
    }
   ],
   "source": [
    "images = soup.find_all('a',class_= \"fancybox\")\n",
    "for image in images:\n",
    "    \n",
    "    featured_image_url = 'https://www.jpl.nasa.gov' + image['data-fancybox-href']\n",
    "    print(\"featured_image_url = \"+ featured_image_url)\n"
   ]
  },
  {
   "cell_type": "code",
   "execution_count": 53,
   "metadata": {},
   "outputs": [],
   "source": [
    "         # Mars Weather"
   ]
  },
  {
   "cell_type": "code",
   "execution_count": 54,
   "metadata": {},
   "outputs": [],
   "source": [
    "weather_url = 'https://twitter.com/marswxreport?lang=en'\n",
    "browser.visit(weather_url)   "
   ]
  },
  {
   "cell_type": "code",
   "execution_count": 55,
   "metadata": {},
   "outputs": [],
   "source": [
    "html = browser.html\n",
    "soup = bs(html, 'html.parser')"
   ]
  },
  {
   "cell_type": "code",
   "execution_count": 56,
   "metadata": {},
   "outputs": [
    {
     "name": "stdout",
     "output_type": "stream",
     "text": [
      "InSight sol 88 (2019-02-25) low -95.2ºC (-139.4ºF) high -17.8ºC (0.0ºF)\n",
      "winds from the SW at 5.2 m/s (11.6 mph) gusting to 19.8 m/s (44.3 mph)\n",
      "pressure at 7.20 hPapic.twitter.com/1msjBvhiu7\n"
     ]
    }
   ],
   "source": [
    "mars_weather = soup.find('p',class_=\"TweetTextSize TweetTextSize--normal js-tweet-text tweet-text\").text\n",
    "#for weather in mars_weather:\n",
    "    #print (\"mars_weather = \" + weather.getText())\n",
    "    \n",
    "   # print(\"_|_ _|_ \")\n",
    "    #break \n",
    "print (mars_weather)"
   ]
  },
  {
   "cell_type": "code",
   "execution_count": 16,
   "metadata": {},
   "outputs": [],
   "source": [
    "       # Mars Facts"
   ]
  },
  {
   "cell_type": "code",
   "execution_count": 17,
   "metadata": {},
   "outputs": [],
   "source": [
    "facts_url = 'https://space-facts.com/mars/'\n",
    "browser.visit(facts_url)"
   ]
  },
  {
   "cell_type": "code",
   "execution_count": 18,
   "metadata": {},
   "outputs": [
    {
     "data": {
      "text/plain": [
       "[                      0                              1\n",
       " 0  Equatorial Diameter:                       6,792 km\n",
       " 1       Polar Diameter:                       6,752 km\n",
       " 2                 Mass:  6.42 x 10^23 kg (10.7% Earth)\n",
       " 3                Moons:            2 (Phobos & Deimos)\n",
       " 4       Orbit Distance:       227,943,824 km (1.52 AU)\n",
       " 5         Orbit Period:           687 days (1.9 years)\n",
       " 6  Surface Temperature:                  -153 to 20 °C\n",
       " 7         First Record:              2nd millennium BC\n",
       " 8          Recorded By:           Egyptian astronomers]"
      ]
     },
     "execution_count": 18,
     "metadata": {},
     "output_type": "execute_result"
    }
   ],
   "source": [
    "mars_facts = pd.read_html(facts_url)\n",
    "mars_facts"
   ]
  },
  {
   "cell_type": "code",
   "execution_count": 19,
   "metadata": {},
   "outputs": [
    {
     "data": {
      "text/plain": [
       "'<table border=\"1\" class=\"dataframe\">\\n  <tbody>\\n    <tr>\\n      <td>Equatorial Diameter:</td>\\n      <td>6,792 km</td>\\n    </tr>\\n    <tr>\\n      <td>Polar Diameter:</td>\\n      <td>6,752 km</td>\\n    </tr>\\n    <tr>\\n      <td>Mass:</td>\\n      <td>6.42 x 10^23 kg (10.7% Earth)</td>\\n    </tr>\\n    <tr>\\n      <td>Moons:</td>\\n      <td>2 (Phobos &amp; Deimos)</td>\\n    </tr>\\n    <tr>\\n      <td>Orbit Distance:</td>\\n      <td>227,943,824 km (1.52 AU)</td>\\n    </tr>\\n    <tr>\\n      <td>Orbit Period:</td>\\n      <td>687 days (1.9 years)</td>\\n    </tr>\\n    <tr>\\n      <td>Surface Temperature:</td>\\n      <td>-153 to 20 °C</td>\\n    </tr>\\n    <tr>\\n      <td>First Record:</td>\\n      <td>2nd millennium BC</td>\\n    </tr>\\n    <tr>\\n      <td>Recorded By:</td>\\n      <td>Egyptian astronomers</td>\\n    </tr>\\n  </tbody>\\n</table>'"
      ]
     },
     "execution_count": 19,
     "metadata": {},
     "output_type": "execute_result"
    }
   ],
   "source": [
    "df = mars_facts[0]\n",
    "html_table = df.to_html(header = False, index = False)\n",
    "html_table"
   ]
  },
  {
   "cell_type": "code",
   "execution_count": 20,
   "metadata": {},
   "outputs": [
    {
     "data": {
      "text/plain": [
       "'<table border=\"1\" class=\"dataframe\">  <tbody>    <tr>      <td>Equatorial Diameter:</td>      <td>6,792 km</td>    </tr>    <tr>      <td>Polar Diameter:</td>      <td>6,752 km</td>    </tr>    <tr>      <td>Mass:</td>      <td>6.42 x 10^23 kg (10.7% Earth)</td>    </tr>    <tr>      <td>Moons:</td>      <td>2 (Phobos &amp; Deimos)</td>    </tr>    <tr>      <td>Orbit Distance:</td>      <td>227,943,824 km (1.52 AU)</td>    </tr>    <tr>      <td>Orbit Period:</td>      <td>687 days (1.9 years)</td>    </tr>    <tr>      <td>Surface Temperature:</td>      <td>-153 to 20 °C</td>    </tr>    <tr>      <td>First Record:</td>      <td>2nd millennium BC</td>    </tr>    <tr>      <td>Recorded By:</td>      <td>Egyptian astronomers</td>    </tr>  </tbody></table>'"
      ]
     },
     "execution_count": 20,
     "metadata": {},
     "output_type": "execute_result"
    }
   ],
   "source": [
    "html_table.replace('\\n', '')"
   ]
  },
  {
   "cell_type": "code",
   "execution_count": 21,
   "metadata": {},
   "outputs": [],
   "source": [
    "df.to_html('table.html')\n",
    "!open table.html"
   ]
  },
  {
   "cell_type": "code",
   "execution_count": 22,
   "metadata": {},
   "outputs": [],
   "source": [
    "       # Mars Hemispheres"
   ]
  },
  {
   "cell_type": "code",
   "execution_count": 34,
   "metadata": {},
   "outputs": [],
   "source": [
    "hemispheres_url = 'https://astrogeology.usgs.gov/search/results?q=hemisphere+enhanced&k1=target&v1=Mars'\n",
    "browser.visit(hemispheres_url)\n"
   ]
  },
  {
   "cell_type": "code",
   "execution_count": 35,
   "metadata": {},
   "outputs": [],
   "source": [
    "html = browser.html\n",
    "soup = bs(html, 'html.parser')\n",
    "hemispheres_images_url = []"
   ]
  },
  {
   "cell_type": "code",
   "execution_count": 36,
   "metadata": {},
   "outputs": [],
   "source": [
    "image_list = soup.find('div',class_='result-list')\n",
    "hemispheres = image_list.find_all('div',class_='item')\n",
    "for hemisphere in hemispheres:\n",
    "    title = hemisphere.find('h3').text\n",
    "    end_link = hemisphere.find('a')[\"href\"]\n",
    "    image_link = \"https://astrogeology.usgs.gov/\" + end_link   \n",
    "    browser.visit(image_link)\n",
    "    html = browser.html\n",
    "    soup=bs(html, \"html.parser\")\n",
    "    downloads = soup.find(\"div\", class_=\"downloads\")\n",
    "    image_url = downloads.find(\"a\")[\"href\"]\n",
    "    hemispheres_images_url.append({\"title\": title, \"img_url\": image_url})\n"
   ]
  },
  {
   "cell_type": "code",
   "execution_count": 39,
   "metadata": {},
   "outputs": [
    {
     "data": {
      "text/plain": [
       "[{'title': 'Cerberus Hemisphere Enhanced',\n",
       "  'img_url': 'http://astropedia.astrogeology.usgs.gov/download/Mars/Viking/cerberus_enhanced.tif/full.jpg'},\n",
       " {'title': 'Schiaparelli Hemisphere Enhanced',\n",
       "  'img_url': 'http://astropedia.astrogeology.usgs.gov/download/Mars/Viking/schiaparelli_enhanced.tif/full.jpg'},\n",
       " {'title': 'Syrtis Major Hemisphere Enhanced',\n",
       "  'img_url': 'http://astropedia.astrogeology.usgs.gov/download/Mars/Viking/syrtis_major_enhanced.tif/full.jpg'},\n",
       " {'title': 'Valles Marineris Hemisphere Enhanced',\n",
       "  'img_url': 'http://astropedia.astrogeology.usgs.gov/download/Mars/Viking/valles_marineris_enhanced.tif/full.jpg'}]"
      ]
     },
     "execution_count": 39,
     "metadata": {},
     "output_type": "execute_result"
    }
   ],
   "source": [
    "hemispheres_images_url"
   ]
  },
  {
   "cell_type": "code",
   "execution_count": null,
   "metadata": {},
   "outputs": [],
   "source": []
  }
 ],
 "metadata": {
  "kernelspec": {
   "display_name": "Python 3",
   "language": "python",
   "name": "python3"
  },
  "language_info": {
   "codemirror_mode": {
    "name": "ipython",
    "version": 3
   },
   "file_extension": ".py",
   "mimetype": "text/x-python",
   "name": "python",
   "nbconvert_exporter": "python",
   "pygments_lexer": "ipython3",
   "version": "3.7.2"
  }
 },
 "nbformat": 4,
 "nbformat_minor": 2
}
